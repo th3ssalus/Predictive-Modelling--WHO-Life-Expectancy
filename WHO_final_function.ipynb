{
 "cells": [
  {
   "cell_type": "markdown",
   "id": "ed820159-7283-4ab4-a485-e4a06e100267",
   "metadata": {},
   "source": [
    "<img src=\"https://raw.githubusercontent.com/tdch3n/who-pictures/main/logo.png\" align=\"left\" style=\"display: inline-block; margin-left: 10px; height: 180px;\">\n",
    "<h1 style=\"display: inline-block; color: #006F42; margin-left: 80px;\">Project WHO - Linear regression function</h1>\n",
    "<h2 align= \"left\">&nbsp;&nbsp;&nbsp;&nbsp;&nbsp;&nbsp;&nbsp;&nbsp;&nbsp;&nbsp;&nbsp;&nbsp;&nbsp;By: Harry, Simon, Tai & Yassim</h2>"
   ]
  },
  {
   "cell_type": "markdown",
   "id": "567f9a51-1781-4e96-bd98-ac07380e1558",
   "metadata": {
    "tags": []
   },
   "source": [
    "## Prerequisite functions"
   ]
  },
  {
   "cell_type": "code",
   "execution_count": 24,
   "id": "c59049fc-8c9d-41a7-ac00-2646fdb7dac2",
   "metadata": {
    "tags": []
   },
   "outputs": [],
   "source": [
    "def user_input_best():\n",
    "    variables = [\n",
    "        {\n",
    "            'name': 'Infant_deaths',\n",
    "            'q': \"What is the number of Infant Deaths per 1000 population?\\nOnly positive numbers are accepted (up to 1000). \",\n",
    "            'input_error': \"Please only enter numbers\",\n",
    "            'value': -1000,\n",
    "            'subtractor': 0,\n",
    "            'divisor': 1000,\n",
    "            'coef': -68.5262,\n",
    "            'min': 0,\n",
    "            'max': 1000,\n",
    "            },\n",
    "        {\n",
    "            'name': 'Under_five_deaths',\n",
    "            'q': \"What is the number of under-five deaths per 1000 population?\\nOnly positive numbers are accepted (up to 1000). \",\n",
    "            'input_error': \"Please only enter numbers\",\n",
    "            'value': -1000,\n",
    "            'subtractor': 0,\n",
    "            'divisor': 1000,\n",
    "            'coef': -45.7010,\n",
    "            'min': 0,\n",
    "            'max': 1000,\n",
    "            },\n",
    "        {\n",
    "            'name': 'Adult_mortality',\n",
    "            'q': \"What are the adult mortality rates for both sexes?\\n This is defined as the probability of dying between 15 and 60 years per 1000 population? \",\n",
    "            'input_error': \"Please only enter numbers\",\n",
    "            'value': -1000,\n",
    "            'subtractor': 0,\n",
    "            'divisor': 1000,\n",
    "            'coef': -48.2937,\n",
    "            'min': 0,\n",
    "            'max': 1000,\n",
    "            },\n",
    "        {\n",
    "            'name': 'Incidents_HIV',\n",
    "            'q': \"What is the number of deaths per 1000 live births caused by HIV/AIDS per 1000 population (ages 0-4 years)? \",\n",
    "            'input_error': \"Please only enter numbers\",\n",
    "            'value': -1000,\n",
    "            'subtractor': 0,\n",
    "            'divisor': 1000,\n",
    "            'coef': -48.2937,\n",
    "            'min': 0,\n",
    "            'max': 104.3415,\n",
    "            },\n",
    "        {\n",
    "            'name': 'Thinness_five_nine_years',\n",
    "            'q': \"What is the prevalence of thinness among children for Age 5 to 9(%):  \",\n",
    "            'input_error': \"Please only enter numbers\",\n",
    "            'value': -1000,\n",
    "            'subtractor': 0,\n",
    "            'divisor': 100,\n",
    "            'coef': -2.3791,\n",
    "            'min': 0,\n",
    "            'max': 100,\n",
    "            }\n",
    "    ]\n",
    "    variable2 = {\n",
    "            'name': 'Economy_status_Developed',\n",
    "            'q': \"Is the status of your country developed or developing?\\nType 1 for developed or 0 for developing: \",\n",
    "            'input_error': \"Only 0 and 1 are accepted inputs. (1- developed/ 0- developing) \",\n",
    "            'value': -1000,\n",
    "            'subtractor': 0,\n",
    "            'divisor': 1,\n",
    "            'coef': 1.9295,\n",
    "            'min': 0,\n",
    "            'max': 1,\n",
    "            }\n",
    "    \n",
    "    while variable2['value'] not in [0,1]:\n",
    "        try:\n",
    "            variable2['value'] = int(input(variable2['q']))\n",
    "        except:\n",
    "            print(variable2['input_error'])\n",
    "            \n",
    "    \n",
    "    for variable in variables:\n",
    "        while ( variable['value']> variable['max']) | (variable['value']< variable['min']):\n",
    "            try:\n",
    "                variable['value'] = float(input(variable['q']))\n",
    "            except:\n",
    "                print(variable['input_error'])\n",
    "            \n",
    "    life_score = 81.8136 + (variable2['coef'] * ((variable2['value']-variable2['subtractor'])/variable2['divisor']))\n",
    "    for variable in variables:\n",
    "        life_score += variable['coef'] * ((variable['value']-variable['subtractor'])/variable['divisor'])\n",
    "    return life_score"
   ]
  },
  {
   "cell_type": "code",
   "execution_count": 25,
   "id": "4082c102-60d3-46ca-973c-8cedf570ecc9",
   "metadata": {
    "tags": []
   },
   "outputs": [],
   "source": [
    "def user_input_min():\n",
    "    variables = [\n",
    "        {\n",
    "            'name': 'GDP_per_capita',\n",
    "            'q': \"What is the Gross Domestic Product per capita in your country (in USD)?\\nEnter positive values up to 200000\",\n",
    "            'input_error': \"Only positive numbers are accepted (up to 200000).\",\n",
    "            'value': -1000,\n",
    "            'subtractor': 4276,\n",
    "            'divisor': 11408,\n",
    "            'coef': 0.4601,\n",
    "            'min': 0,\n",
    "            'max': 200000,\n",
    "            },\n",
    "        {\n",
    "            'name': 'Adult_mortality',\n",
    "            'q': \"What are the adult mortality rates for both sexes?\\n This is defined as the probability of dying between 15 and 60 years per 1000 population? \",\n",
    "            'input_error': \"Please only enter numbers\",\n",
    "            'value': -1000,\n",
    "            'subtractor': 0,\n",
    "            'divisor': 1000,\n",
    "            'coef': -69.7574,\n",
    "            'min': 0,\n",
    "            'max': 1000,\n",
    "            },\n",
    "        {\n",
    "            'name': 'Year',\n",
    "            'q': \"What year is the prediction for? (Enter years between 2000 and 2050 only): \",\n",
    "            'input_error': \"Only numbers between 2000 and 2050 are valid.\",\n",
    "            'value': -1000,\n",
    "            'subtractor': 2000,\n",
    "            'divisor': 15,\n",
    "            'coef': 1.0802  ,\n",
    "            'min': 2000,\n",
    "            'max': 2050,\n",
    "            }\n",
    "    ]\n",
    "    variable2 = {\n",
    "            'name': 'Economy_status_Developed',\n",
    "            'q': \"Is the status of your country developed or developing?\\nType 1 for developed or 0 for developing: \",\n",
    "            'input_error': \"Only 0 and 1 are accepted inputs. (1- developed/ 0- developing) \",\n",
    "            'value': -1000,\n",
    "            'subtractor': 0,\n",
    "            'divisor': 1,\n",
    "            'coef': 2.5145,\n",
    "            'min': 0,\n",
    "            'max': 1,\n",
    "            }\n",
    "    \n",
    "    while variable2['value'] not in [0,1]:\n",
    "        try:\n",
    "            variable2['value'] = int(input(variable2['q']))\n",
    "        except:\n",
    "            print(variable2['input_error'])\n",
    "    \n",
    "    for variable in variables:\n",
    "        while ( variable['value']> variable['max']) | (variable['value']< variable['min']):\n",
    "            try:\n",
    "                variable['value'] = float(input(variable['q']))\n",
    "            except:\n",
    "                print(variable['input_error'])\n",
    "\n",
    "            \n",
    "    life_score = 80.9169 + (variable2['coef'] * ((variable2['value']-variable2['subtractor'])/variable2['divisor']))\n",
    "    for variable in variables:\n",
    "        life_score += variable['coef'] * ((variable['value']-variable['subtractor'])/variable['divisor'])\n",
    "        \n",
    "    return life_score"
   ]
  },
  {
   "cell_type": "markdown",
   "id": "eea72175-0121-48eb-92a5-7b9a20ae316f",
   "metadata": {
    "tags": []
   },
   "source": [
    "## Final function"
   ]
  },
  {
   "cell_type": "code",
   "execution_count": 26,
   "id": "afcb240b-94dd-4c83-82bd-b572d9ffc46c",
   "metadata": {
    "tags": []
   },
   "outputs": [],
   "source": [
    "def main():\n",
    "    decision = ''\n",
    "    while decision.upper() not in ['Y','N']:\n",
    "        decision = input('Do you consent to using advanced population data, which may include protected information for better accuracy? (Y/N)')\n",
    "    if decision.upper() == 'Y':\n",
    "        return round(user_input_best(),2)\n",
    "    if decision.upper() == 'N':\n",
    "        return round(user_input_min(),2)"
   ]
  },
  {
   "cell_type": "code",
   "execution_count": 27,
   "id": "4612b053-0a7d-43cf-ab6e-166be1fbd2d8",
   "metadata": {},
   "outputs": [
    {
     "name": "stdin",
     "output_type": "stream",
     "text": [
      "Do you consent to using advanced population data, which may include protected information for better accuracy? (Y/N) 7\n",
      "Do you consent to using advanced population data, which may include protected information for better accuracy? (Y/N) y\n",
      "Is the status of your country developed or developing?\n",
      "Type 1 for developed or 0 for developing:  g\n"
     ]
    },
    {
     "name": "stdout",
     "output_type": "stream",
     "text": [
      "Only 0 and 1 are accepted inputs. (1- developed/ 0- developing) \n"
     ]
    },
    {
     "name": "stdin",
     "output_type": "stream",
     "text": [
      "Is the status of your country developed or developing?\n",
      "Type 1 for developed or 0 for developing:  1\n",
      "What is the number of Infant Deaths per 1000 population?\n",
      "Only positive numbers are accepted (up to 1000).  -9\n",
      "What is the number of Infant Deaths per 1000 population?\n",
      "Only positive numbers are accepted (up to 1000).  hello\n"
     ]
    },
    {
     "name": "stdout",
     "output_type": "stream",
     "text": [
      "Please only enter numbers\n"
     ]
    },
    {
     "name": "stdin",
     "output_type": "stream",
     "text": [
      "What is the number of Infant Deaths per 1000 population?\n",
      "Only positive numbers are accepted (up to 1000).  9\n",
      "What is the number of under-five deaths per 1000 population?\n",
      "Only positive numbers are accepted (up to 1000).  5\n",
      "What are the adult mortality rates for both sexes?\n",
      " This is defined as the probability of dying between 15 and 60 years per 1000 population?  5\n",
      "What is the number of deaths per 1000 live births caused by HIV/AIDS per 1000 population (ages 0-4 years)?  5\n",
      "What is the prevalence of thinness among children for Age 5 to 9(%):   5\n"
     ]
    },
    {
     "data": {
      "text/plain": [
       "82.3"
      ]
     },
     "execution_count": 27,
     "metadata": {},
     "output_type": "execute_result"
    }
   ],
   "source": [
    "main() ## Run me!"
   ]
  },
  {
   "cell_type": "code",
   "execution_count": null,
   "id": "48e11062-3c2c-446d-9e02-ad80630b1c6c",
   "metadata": {},
   "outputs": [],
   "source": []
  }
 ],
 "metadata": {
  "kernelspec": {
   "display_name": "Python 3 (ipykernel)",
   "language": "python",
   "name": "python3"
  },
  "language_info": {
   "codemirror_mode": {
    "name": "ipython",
    "version": 3
   },
   "file_extension": ".py",
   "mimetype": "text/x-python",
   "name": "python",
   "nbconvert_exporter": "python",
   "pygments_lexer": "ipython3",
   "version": "3.11.7"
  }
 },
 "nbformat": 4,
 "nbformat_minor": 5
}
